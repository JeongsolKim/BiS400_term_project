{
 "cells": [
  {
   "cell_type": "markdown",
   "metadata": {},
   "source": [
    "# 1. Import libraries and modules"
   ]
  },
  {
   "cell_type": "code",
   "execution_count": null,
   "metadata": {},
   "outputs": [],
   "source": [
    "import tensorflow as tf\n",
    "import numpy as np\n",
    "import argparse\n",
    "import datetime\n",
    "from PIL import Image\n",
    "from tqdm import tqdm\n",
    "from BatchGenerator import batchgenerator\n",
    "from StyleTransfer import styletransfer\n",
    "from Discriminator import discriminator\n",
    "from Trainer import trainer\n",
    "from Trainer_with_discriminator import trainer_with_discriminator"
   ]
  },
  {
   "cell_type": "markdown",
   "metadata": {},
   "source": [
    "# 2. Hyper-parameters and directories."
   ]
  },
  {
   "cell_type": "code",
   "execution_count": null,
   "metadata": {},
   "outputs": [],
   "source": [
    "parser = argparse.ArgumentParser(description='')\n",
    "parser.add_argument('--save_dir', dest='save_dir', type=str, default='./model_save')\n",
    "parser.add_argument('--load_ckp_dir', dest='load_ckp_dir', type=str, default='./training_ckps/original_model')\n",
    "parser.add_argument('--save_ckp_dir', dest='save_ckp_dir', type=str, default='./training_ckps/train')\n",
    "parser.add_argument('--log_dir', dest='log_dir', type=str, default='./training_log/test')\n",
    "parser.add_argument('--history_dir', dest='history_dir', type=str, default='./history')\n",
    "\n",
    "parser.add_argument('--epochs', dest='epochs', type=int, default=80)\n",
    "parser.add_argument('--img_size', dest='img_size', type=int, default=256)\n",
    "parser.add_argument('--batch_size', dest='batch_size', type=int, default=8)\n",
    "parser.add_argument('--learning_rate', dest='learning_rate', type=float, default=1e-4)\n",
    "parser.add_argument('--learning_rate_decay', dest='learning_rate_decay', type=float, default=5e-5)\n",
    "parser.add_argument('--max_iteration', dest='max_iteration', type=int, default=2000)\n",
    "\n",
    "parser.add_argument('--content_loss_weight', dest='content_loss_weight', type=float, default=1)\n",
    "parser.add_argument('--style_loss_weight', dest='style_loss_weight', type=float, default=10)\n",
    "parser.add_argument('--tv_loss_weight', dest='tv_loss_weight', type=float, default=0)\n",
    "parser.add_argument('--gradient_panelty_weight', dest='gradient_panelty_weight', type=float, default=10)\n",
    "\n",
    "parser.add_argument('--use_discriminator', dest='use_discriminator', type=bool, default=False)\n",
    "parser.add_argument('--continue_learn', dest='continue_learn', type=bool, default=False)\n",
    "\n",
    "parser.add_argument('--style_layers', dest='style_layers', type=list, default=['block1_conv1','block2_conv1','block3_conv1','block4_conv1'])\n",
    "parser.add_argument('--content_layer', dest='content_layer', type=str, default='block4_conv1')\n",
    "args, unknown = parser.parse_known_args()"
   ]
  },
  {
   "cell_type": "markdown",
   "metadata": {},
   "source": [
    "# 3. Create folders if it is not exist"
   ]
  },
  {
   "cell_type": "code",
   "execution_count": null,
   "metadata": {},
   "outputs": [],
   "source": [
    "import os\n",
    "if not os.path.exists(args.history_dir): os.makedirs(args.history_dir)\n",
    "if not os.path.exists(args.log_dir): os.makedirs(args.log_dir)\n",
    "if not os.path.exists(args.save_ckp_dir): os.makedirs(args.save_ckp_dir)\n",
    "if not os.path.exists(args.save_dir): os.makedirs(args.save_dir)  "
   ]
  },
  {
   "cell_type": "markdown",
   "metadata": {},
   "source": [
    "# 4. Load Batch Generator and StyleTransfer"
   ]
  },
  {
   "cell_type": "code",
   "execution_count": null,
   "metadata": {},
   "outputs": [],
   "source": [
    "batchgen = batchgenerator('./data/train/', args.batch_size, args.img_size)\n",
    "styler = styletransfer(args)\n",
    "disc = discriminator(args) if args.use_discriminator else None"
   ]
  },
  {
   "cell_type": "code",
   "execution_count": null,
   "metadata": {
    "scrolled": false
   },
   "outputs": [],
   "source": [
    "import matplotlib.pyplot as plt\n",
    "import utils\n",
    "\n",
    "# Sample training images display\n",
    "a = utils.MinMax_Scale(batchgen.next_batch('content'))\n",
    "plt.subplot(221)\n",
    "plt.title('Content input 1'); plt.imshow(a[0,:,:,:]); plt.axis('off'); plt.colorbar();\n",
    "plt.subplot(222)\n",
    "plt.title('Content input 2'); plt.imshow(a[1,:,:,:]); plt.axis('off'); plt.colorbar();\n",
    "\n",
    "a = utils.MinMax_Scale(batchgen.next_batch('style'))\n",
    "plt.subplot(223)\n",
    "plt.title('Style input 1'); plt.imshow(a[0,:,:,:]); plt.axis('off'); plt.colorbar();\n",
    "plt.subplot(224)\n",
    "plt.title('Style input 2'); plt.imshow(a[1,:,:,:]); plt.axis('off'); plt.colorbar();"
   ]
  },
  {
   "cell_type": "markdown",
   "metadata": {},
   "source": [
    "# 5. Train the StyleTransfer"
   ]
  },
  {
   "cell_type": "code",
   "execution_count": null,
   "metadata": {
    "scrolled": true
   },
   "outputs": [],
   "source": [
    "# Load trainer\n",
    "if not args.use_discriminator:\n",
    "    MyTrainer = trainer(styler, args)\n",
    "elif args.use_discriminator:\n",
    "    MyTrainer = trainer_with_discriminator(styler, disc, args)\n",
    "\n",
    "# Start to train\n",
    "MyTrainer.train(batchgen) "
   ]
  },
  {
   "cell_type": "markdown",
   "metadata": {},
   "source": [
    "# 6. Test the StyleTransfer"
   ]
  },
  {
   "cell_type": "code",
   "execution_count": null,
   "metadata": {},
   "outputs": [],
   "source": [
    "from os.path import join, splitext\n",
    "import os\n",
    "\n",
    "# load batch generator for test data.\n",
    "batchgen_test = batchgenerator('./data/test/', args.batch_size, args.img_size)\n",
    "\n",
    "# Save folder create\n",
    "test_save = join(args.history_dir,'test')\n",
    "if not os.path.exists(test_save): os.makedirs(test_save)\n",
    "\n",
    "# Inference using all test data\n",
    "for content_img_name in batchgen_test.content_img_names:\n",
    "    print('>> Test for the content image ' + content_img_name+'...' )\n",
    "    # load a content image\n",
    "    content_batch = tf.expand_dims(batchgen_test.one_test_img('content', name=content_img_name, crop= False), axis=0)\n",
    "\n",
    "    for style_img_name in batchgen_test.style_img_names:\n",
    "        # load a style image\n",
    "        style_batch = tf.expand_dims(batchgen_test.one_test_img('style', name=style_img_name, crop=False), axis=0)\n",
    "        \n",
    "        # Get the synthesized image\n",
    "        output = styler(content_batch, style_batch)[0,:,:,:]\n",
    "\n",
    "        # save the synthesized image\n",
    "        content_base = os.path.basename(content_img_name)\n",
    "        style_base = os.path.basename(style_img_name)\n",
    "        \n",
    "        save_name = splitext(content_base)[0] + '_to_' + splitext(style_base)[0] + '.jpg'\n",
    "        save_img = Image.fromarray(np.uint8(output))\n",
    "        save_img.save(join(test_save, save_name))\n",
    "\n",
    "# Image show that last example\n",
    "plt.figure(figsize=(15,15))\n",
    "plt.subplot(221)\n",
    "plt.imshow(utils.MinMax_Scale(content_batch[0,:,:,:]))\n",
    "plt.subplot(222)\n",
    "plt.imshow(utils.MinMax_Scale(style_batch[0,:,:,:]))\n",
    "plt.subplot(2,2,3)\n",
    "plt.imshow(utils.MinMax_Scale(output))"
   ]
  },
  {
   "cell_type": "markdown",
   "metadata": {},
   "source": [
    "# 7. Model save"
   ]
  },
  {
   "cell_type": "code",
   "execution_count": null,
   "metadata": {},
   "outputs": [],
   "source": [
    "styler.dec.net.save_weights(args.save_ckp_dir+\"/decoder/decoder_ckpt\")\n",
    "if args.use_discriminator:\n",
    "    disc.net.save_weights(args.save_ckp_dir+\"/discriminator/discriminator_ckpt\")"
   ]
  }
 ],
 "metadata": {
  "kernelspec": {
   "display_name": "tensorflow2_env",
   "language": "python",
   "name": "tensorflow2_env"
  },
  "language_info": {
   "codemirror_mode": {
    "name": "ipython",
    "version": 3
   },
   "file_extension": ".py",
   "mimetype": "text/x-python",
   "name": "python",
   "nbconvert_exporter": "python",
   "pygments_lexer": "ipython3",
   "version": "3.6.10"
  }
 },
 "nbformat": 4,
 "nbformat_minor": 4
}
